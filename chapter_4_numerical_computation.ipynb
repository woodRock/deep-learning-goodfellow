{
  "nbformat": 4,
  "nbformat_minor": 0,
  "metadata": {
    "colab": {
      "provenance": [],
      "toc_visible": true,
      "authorship_tag": "ABX9TyPVbL6OLkNxzQpfVa7Nsxuq",
      "include_colab_link": true
    },
    "kernelspec": {
      "name": "python3",
      "display_name": "Python 3"
    },
    "language_info": {
      "name": "python"
    }
  },
  "cells": [
    {
      "cell_type": "markdown",
      "metadata": {
        "id": "view-in-github",
        "colab_type": "text"
      },
      "source": [
        "<a href=\"https://colab.research.google.com/github/woodRock/deep-learning-goodfellow/blob/main/chapter_4_numerical_computation.ipynb\" target=\"_parent\"><img src=\"https://colab.research.google.com/assets/colab-badge.svg\" alt=\"Open In Colab\"/></a>"
      ]
    },
    {
      "cell_type": "markdown",
      "source": [
        "# Chapter 4 | Numerical Computation\n",
        "\n",
        "Even just evaluating mathematical function on a digital computer can be difficult when the function involves real numbers, which cannot be represented precisely using a finite amount of memory."
      ],
      "metadata": {
        "id": "g5Z8GQ_svFTG"
      }
    },
    {
      "cell_type": "markdown",
      "source": [
        "# Overflow and underflow\n",
        "\n",
        "The softmax function is often used to predict the probabliites associated with a multinoulli distribution. The softmax can be defined as\n",
        "\n",
        "$$\n",
        "  softmax(x)_i = \\frac{exp(x_i)}{\\sum^{n}_{j=1}exp(x_j)}\n",
        "$$\n",
        "If c is very negative, then $exp(c)$ will underflow. If c is very large then $exp(c)$ will overflow."
      ],
      "metadata": {
        "id": "fyTeqeSQvNiD"
      }
    },
    {
      "cell_type": "code",
      "execution_count": 11,
      "metadata": {
        "colab": {
          "base_uri": "https://localhost:8080/",
          "height": 583
        },
        "id": "7rD-fUa2uH5O",
        "outputId": "7e5af98c-fe50-41a2-e3df-aa01d0824d5b"
      },
      "outputs": [
        {
          "output_type": "display_data",
          "data": {
            "text/plain": [
              "<Figure size 640x480 with 1 Axes>"
            ],
            "image/png": "[encoded data removed]"
          },
          "metadata": {}
        },
        {
          "output_type": "stream",
          "name": "stdout",
          "text": [
            "softmax(1_000_000): [nan]\n",
            "softmax(-1_000_000): [nan]\n"
          ]
        },
        {
          "output_type": "stream",
          "name": "stderr",
          "text": [
            "<ipython-input-11-5081527b132d>:5: RuntimeWarning: overflow encountered in exp\n",
            "  temp = np.exp(x)\n",
            "<ipython-input-11-5081527b132d>:6: RuntimeWarning: invalid value encountered in divide\n",
            "  return temp / (np.sum(temp, axis=0, keepdims=True))\n"
          ]
        }
      ],
      "source": [
        "import numpy as np\n",
        "import matplotlib.pyplot as plt\n",
        "\n",
        "def softmax(x):\n",
        "    temp = np.exp(x)\n",
        "    return temp / (np.sum(temp, axis=0, keepdims=True))\n",
        "\n",
        "# Plot the softmax activation function.\n",
        "x = np.linspace(-10, 10, 100)\n",
        "y = softmax(x)\n",
        "plt.title('Softmax Activation Function')\n",
        "plt.xlabel('x')\n",
        "plt.ylabel('y')\n",
        "plt.plot(x, y)\n",
        "plt.show()\n",
        "\n",
        "# Overflow\n",
        "numerical_overflow = softmax([1_000_000])\n",
        "print(f\"softmax(1_000_000): {numerical_overflow}\")\n",
        "\n",
        "# Underflow\n",
        "numerical_underflow = softmax([-1_000_000])\n",
        "print(f\"softmax(-1_000_000): {numerical_underflow}\")"
      ]
    },
    {
      "cell_type": "markdown",
      "source": [
        "# Poor conditioning\n",
        "\n",
        "**Conditioning** refers to how rapidly a function changes with respect to small changes in its inputs.\n",
        "\n",
        "Functions that change rapidly when their inputs are perturbed slightly can be problematic for scientific computation because rounding errors in inputs can result in large changes in the output.\n",
        "\n",
        "Consider the function $f(x) = A^{-1}x$. When $A \\in \\mathbb{R}^{m\\times n}$ has an eigen value decomposition, its **condition number** is\n",
        "\n",
        "$$\n",
        "  max_{i,j} = |\\frac{\\lambda_i}{\\lambda_j}|\n",
        "$$\n",
        "\n",
        "That is the ratio of the magnitude of the largest and smallest eigenvalue. When this number is large , matrix inversion is particularly sensitive to error in the input."
      ],
      "metadata": {
        "id": "qO0X2CwmvRl5"
      }
    },
    {
      "cell_type": "code",
      "source": [
        "# Poor Conditioning Example in Python\n",
        "\n",
        "import numpy as np\n",
        "\n",
        "# Set a random seed for reproducibility\n",
        "np.random.seed(42)\n",
        "\n",
        "# Create a poorly conditioned matrix A\n",
        "n = 3\n",
        "A = np.random.rand(n, n)\n",
        "A[0, 1] = A[1, 0] = A[0, 2] = A[2, 0] = 1e-10\n",
        "A[1, 2] = A[2, 1] = 1e-10\n",
        "\n",
        "# Calculate the condition number of A\n",
        "cond_num = np.linalg.cond(A)\n",
        "\n",
        "# Create two slightly different input vectors\n",
        "x1 = np.array([1, 2, 3])\n",
        "x2 = np.array([1, 2, 3.000001])  # Tiny change in the third component\n",
        "\n",
        "# Solve the system for both inputs\n",
        "y1 = np.linalg.solve(A, x1)\n",
        "y2 = np.linalg.solve(A, x2)\n",
        "\n",
        "# Calculate the relative changes\n",
        "rel_change_input = np.linalg.norm(x2 - x1) / np.linalg.norm(x1)\n",
        "rel_change_output = np.linalg.norm(y2 - y1) / np.linalg.norm(y1)\n",
        "\n",
        "print(f\"Condition number of A: {cond_num:.2e}\")\n",
        "print(f\"Relative change in input: {rel_change_input:.2e}\")\n",
        "print(f\"Relative change in output: {rel_change_output:.2e}\")\n",
        "print(f\"Ratio of relative changes (output/input): {rel_change_output/rel_change_input:.2e}\")\n",
        "\n",
        "print(\"\\nMatrix A:\")\n",
        "print(A)\n",
        "print(\"\\ny1 =\", y1)\n",
        "print(\"y2 =\", y2)"
      ],
      "metadata": {
        "colab": {
          "base_uri": "https://localhost:8080/"
        },
        "id": "09DQBa-uxuJJ",
        "outputId": "fed27bbc-0b2b-4ce0-c26e-192e4006738a"
      },
      "execution_count": 16,
      "outputs": [
        {
          "output_type": "stream",
          "name": "stdout",
          "text": [
            "Condition number of A: 3.85e+00\n",
            "Relative change in input: 2.67e-07\n",
            "Relative change in output: 1.19e-07\n",
            "Ratio of relative changes (output/input): 4.44e-01\n",
            "\n",
            "Matrix A:\n",
            "[[3.74540119e-01 1.00000000e-10 1.00000000e-10]\n",
            " [1.00000000e-10 1.56018640e-01 1.00000000e-10]\n",
            " [1.00000000e-10 1.00000000e-10 6.01115012e-01]]\n",
            "\n",
            "y1 = [ 2.66994094 12.81898108  4.99072547]\n",
            "y2 = [ 2.66994094 12.81898108  4.99072713]\n"
          ]
        }
      ]
    },
    {
      "cell_type": "markdown",
      "source": [],
      "metadata": {
        "id": "HiBbrMOFxulu"
      }
    }
  ]
}