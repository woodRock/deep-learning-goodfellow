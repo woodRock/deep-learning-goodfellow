{
  "nbformat": 4,
  "nbformat_minor": 0,
  "metadata": {
    "colab": {
      "provenance": [],
      "authorship_tag": "ABX9TyMalTBXZOObKSTlb5nLKy6/",
      "include_colab_link": true
    },
    "kernelspec": {
      "name": "python3",
      "display_name": "Python 3"
    },
    "language_info": {
      "name": "python"
    }
  },
  "cells": [
    {
      "cell_type": "markdown",
      "metadata": {
        "id": "view-in-github",
        "colab_type": "text"
      },
      "source": [
        "<a href=\"https://colab.research.google.com/github/woodRock/deep-learning-goodfellow/blob/main/chapter_2_linear_algebra.ipynb\" target=\"_parent\"><img src=\"https://colab.research.google.com/assets/colab-badge.svg\" alt=\"Open In Colab\"/></a>"
      ]
    },
    {
      "cell_type": "markdown",
      "source": [
        "# Chapter 2"
      ],
      "metadata": {
        "id": "1vOTusrhjFAY"
      }
    },
    {
      "cell_type": "markdown",
      "source": [
        "# Scalers, Vectors, Matrices and Tensors"
      ],
      "metadata": {
        "id": "dHHdfCmajHxv"
      }
    },
    {
      "cell_type": "code",
      "source": [
        "import numpy as np\n",
        "import torch\n",
        "\n",
        "# A scalar is just a single number\n",
        "scalar = 1\n",
        "\n",
        "# A vector in an array of numbers.\n",
        "vector_numpy = np.array([1,2,3,4,5])\n",
        "vector_torch = torch.tensor([1,2,4,5])\n",
        "\n",
        "# A matrix in a 2-D array of numbers\n",
        "matrix_numpy = np.array([[1,2,3],[4,5,6]])\n",
        "matrix_torch = torch.tensor([[1,2,3],[4,5,6]])\n",
        "\n",
        "# A_{i,;} denotes a horizontal cross section of a matrix.\n",
        "print(f\"matrix_numpy[0,:] : {matrix_numpy[0,:]}\")\n",
        "print(f\"matrix_torch[0,:] : {matrix_torch[0,:]}\")\n",
        "\n",
        "# A_{:,i} denotes the ith column of the matrix.\n",
        "print(f\"matrix_numpy[:,0] : {matrix_numpy[:,0]}\")\n",
        "print(f\"matrix_torch[:,0] : {matrix_torch[:,0]}\")\n",
        "\n",
        "# A tensor is an array with more than 2 axes.\n",
        "tensor_numpy = np.array([[[1,2,3],[4,5,6]],[[7,8,9],[10,11,12]]])\n",
        "tensor_torch = torch.tensor([[[1,2,3],[4,5,6]],[[7,8,9],[10,11,12]]])\n",
        "\n",
        "# The tranpose of a matrix is the mirror image of the matrix across a diagonal line.\n",
        "print(f\"matrix_numpy.T : {matrix_numpy.T}\")\n",
        "print(f\"matrix_torch.T : {matrix_torch.T}\")\n",
        "\n",
        "# We denote the tranpose of a matrix A as A^T, and is defined such that (A^T)_{i,j} = A_{i,j}\n",
        "print(f\"matrix_numpy.T[0][1] == matrix_numpy[1][0]: {matrix_numpy.T[0][1] == matrix_numpy[1][0]}\")\n",
        "\n",
        "# The transpose operator can turn a row matrix into a standard column vector.\n",
        "print(f\" {np.array([[1,2,3]]).T}\")\n",
        "\n",
        "# A scalar can be thought of as a matrix with only a single entry, a scalar is its own transpose a^T = a\n",
        "print(f\"np.array(1).T == np.array(1) : {np.array(1).T == np.array([1])}\")\n",
        "\n",
        "# We allow the addition of a matrix and a vector\n",
        "A = np.array([[1,2,3],[4,5,6]])\n",
        "b = np.array([1,2,3])\n",
        "print(f\"A + b : {A + b}\")\n",
        "# The implicit copying for b to many locations is called broadcasting."
      ],
      "metadata": {
        "colab": {
          "base_uri": "https://localhost:8080/"
        },
        "id": "dFqMi-T-jD8y",
        "outputId": "1c695ea9-1ec0-49ce-d41a-6f7f97490297"
      },
      "execution_count": 59,
      "outputs": [
        {
          "output_type": "stream",
          "name": "stdout",
          "text": [
            "matrix_numpy[0,:] : [1 2 3]\n",
            "matrix_torch[0,:] : tensor([1, 2, 3])\n",
            "matrix_numpy[:,0] : [1 4]\n",
            "matrix_torch[:,0] : tensor([1, 4])\n",
            "matrix_numpy.T : [[1 4]\n",
            " [2 5]\n",
            " [3 6]]\n",
            "matrix_torch.T : tensor([[1, 4],\n",
            "        [2, 5],\n",
            "        [3, 6]])\n",
            "matrix_numpy.T[0][1] == matrix_numpy[1][0]: True\n",
            " [[1]\n",
            " [2]\n",
            " [3]]\n",
            "np.array(1).T == np.array(1) : [ True]\n",
            "A + b : [[2 4 6]\n",
            " [5 7 9]]\n"
          ]
        }
      ]
    },
    {
      "cell_type": "markdown",
      "source": [
        "# Multiplying Matrices and Vectors"
      ],
      "metadata": {
        "id": "HNs6tSc1jYJw"
      }
    },
    {
      "cell_type": "code",
      "source": [
        "# Multiplying matrices and vectors\n",
        "# A must have the same number of column as B has rows.\n",
        "A = np.array([[1,2,3],[4,5,6]])\n",
        "B = np.array([[1,2],[3,4],[5,6]])\n",
        "print(f\"A @ B : {A @ B}\")\n",
        "\n",
        "# The dot product between two vectors x and y of the same dimensionality is the matrix product x^Ty\n",
        "x = np.array([1,2,3])\n",
        "y = np.array([4,5,6])\n",
        "print(f\"np.dot(x,y) == x.T @ y : {np.dot(x,y) == x.T @ y}\")\n",
        "\n",
        "# Matrix prodduct operations have many useful properties.\n",
        "A = np.array([[1,2,3],[4,5,6]])\n",
        "B = np.array([[1,2],[3,4],[5,6]])\n",
        "C = np.array([[1,2],[3,4],[5,6]])\n",
        "\n",
        "# Matrix multiplication is distributive.\n",
        "print(f\"A @ (B + C) == A@B + A@C : {A @ (B + C) == A @ B + A @ C}\")\n",
        "\n",
        "A = np.array([[1,2,3],[4,5,6]])\n",
        "B = np.array([[1,2],[3,4],[5,6]])\n",
        "C = np.array([[1,2,3],[4,5,6]])\n",
        "\n",
        "# Matrix multiplication is associative.\n",
        "print(f\"A @ (B @ C) == (A @ B) @ C : {A @ (B @ C) == (A @ B) @ C}\")\n",
        "\n",
        "A = np.array([[1,2,3],[4,5,6],[7,8,9]])\n",
        "B = np.array([[9,8,7],[6,5,4],[3,2,1]])\n",
        "\n",
        "# Matrix multiplication is not commutatuve. AB = BA dies not always hold.\n",
        "print(f\"A @ B == B @ A : {(A @ B == B @ A).all()}\")\n",
        "\n",
        "x = np.array([1,2,3])\n",
        "y = np.array([4,5,6])\n",
        "\n",
        "# The dot product between two vectors is commutative.\n",
        "print(f\"np.dot(x,y) == np.dot(y,x) : {np.dot(x,y) == np.dot(y,x)}\")\n",
        "print(f\"(x.T @ y).T == x.T @ y : {(x.T @ y).T == x.T @ y}\")\n",
        "print(f\"(x.T @ y).T == y.T @ x : {(x.T @ y).T == y.T @ x}\")"
      ],
      "metadata": {
        "colab": {
          "base_uri": "https://localhost:8080/"
        },
        "id": "25hklUsyjWJO",
        "outputId": "d73a602e-4360-47fd-ecba-51862142a9e2"
      },
      "execution_count": 60,
      "outputs": [
        {
          "output_type": "stream",
          "name": "stdout",
          "text": [
            "A @ B : [[22 28]\n",
            " [49 64]]\n",
            "np.dot(x,y) == x.T @ y : True\n",
            "A @ (B + C) == A@B + A@C : [[ True  True]\n",
            " [ True  True]]\n",
            "A @ (B @ C) == (A @ B) @ C : [[ True  True  True]\n",
            " [ True  True  True]]\n",
            "A @ B == B @ A : False\n",
            "np.dot(x,y) == np.dot(y,x) : True\n",
            "(x.T @ y).T == x.T @ y : True\n",
            "(x.T @ y).T == y.T @ x : True\n"
          ]
        }
      ]
    },
    {
      "cell_type": "markdown",
      "source": [
        "# Identity and Inverse Matrices\n",
        "\n",
        "$$\n",
        "  A^{-1}A = I_n \\\\  \n",
        "  Ax = b \\\\\n",
        "  A^{-1}Ax = A^{-1}b \\\\\n",
        "  I_n x = A^{-1}b \\\\\n",
        "  x = A^{-1}b\n",
        "$$"
      ],
      "metadata": {
        "id": "_U1STZ1DjpMB"
      }
    },
    {
      "cell_type": "code",
      "source": [
        "# An identidy matrix is a matrix that does not change any vector when we multiply that vector by that matrix.\n",
        "print(f\"Identity matrix - this is I_3: \\n{np.eye(3)}\")\n",
        "\n",
        "I = np.eye(3)\n",
        "A = np.array([[1,2,3],[4,5,6],[7,8,9]])\n",
        "print(f\"A @ I == A: \\n{A @ I == A}\")\n",
        "\n",
        "a = np.array([[1., 2.], [3., 4.]])\n",
        "ainv = np.linalg.inv(a)\n",
        "print(f\"np.allclose(ainv @ a, np.eye(2)) : {np.allclose(ainv @ a, np.eye(2))}\")"
      ],
      "metadata": {
        "colab": {
          "base_uri": "https://localhost:8080/"
        },
        "id": "CIm-yCC8jsHB",
        "outputId": "0102f4f1-5215-4ded-a83d-23f47ef8b647"
      },
      "execution_count": 71,
      "outputs": [
        {
          "output_type": "stream",
          "name": "stdout",
          "text": [
            "Identity matrix - this is I_3: \n",
            "[[1. 0. 0.]\n",
            " [0. 1. 0.]\n",
            " [0. 0. 1.]]\n",
            "A @ I == A: \n",
            "[[ True  True  True]\n",
            " [ True  True  True]\n",
            " [ True  True  True]]\n",
            "np.allclose(ainv @ a, np.eye(2)) : True\n"
          ]
        }
      ]
    }
  ]
}